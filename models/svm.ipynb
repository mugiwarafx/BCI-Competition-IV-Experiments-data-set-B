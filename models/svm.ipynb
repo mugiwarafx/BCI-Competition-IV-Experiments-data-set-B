{
 "cells": [
  {
   "cell_type": "markdown",
   "metadata": {},
   "source": [
    "## 1. Configuració inicial i càrrega del fitxer GDF\n",
    "\n",
    "Aquesta secció configura l'entorn per a la càrrega de dades EEG des d'un fitxer GDF. \n",
    "Inicialment, obtenim el directori actual de treball i, a continuació, construïm el camí absolut al fitxer GDF. \n",
    "Si el fitxer existeix, es carrega utilitzant la biblioteca MNE i es mostra la informació de les dades carregades."
   ]
  },
  {
   "cell_type": "code",
   "execution_count": null,
   "metadata": {},
   "outputs": [],
   "source": [
    "import os\n",
    "import mne\n",
    "\n",
    "# Get the current working directory\n",
    "current_directory = os.getcwd()\n",
    "\n",
    "# Move up one directory to the parent directory\n",
    "parent_directory = os.path.dirname(current_directory)\n",
    "\n",
    "# Define the relative path to the GDF file\n",
    "relative_gdf_file_path = 'dataset/B0101T.gdf'\n",
    "\n",
    "# Build the absolute path to the GDF file\n",
    "gdf_file_path = os.path.join(parent_directory, relative_gdf_file_path)\n",
    "\n",
    "# Check if the file exists\n",
    "if os.path.exists(gdf_file_path):\n",
    "    # Load the data using MNE\n",
    "    raw_data = mne.io.read_raw_gdf(gdf_file_path, preload=True)\n",
    "    # Print the information about the channels\n",
    "    raw_data.info\n",
    "else:\n",
    "    \"GDF file not found or could not be loaded.\""
   ]
  },
  {
   "cell_type": "markdown",
   "metadata": {},
   "source": [
    "## 2. Extracció i visualització d'informació de canals i esdeveniments\n",
    "\n",
    "Aquesta secció extreu i mostra la informació dels canals i els esdeveniments de les dades EEG. \n",
    "Incloent els noms dels canals, els tipus de canals i la informació dels esdeveniments anotats. \n",
    "Això proporciona una visió general dels components de les dades EEG abans de la seva anàlisi detallada."
   ]
  },
  {
   "cell_type": "code",
   "execution_count": null,
   "metadata": {},
   "outputs": [],
   "source": [
    "# Extracting the channel names and types from the data\n",
    "channel_info = raw_data.info['chs']\n",
    "channel_names = [ch['ch_name'] for ch in channel_info]\n",
    "channel_types = [ch['kind'] for ch in channel_info]\n",
    "\n",
    "# Extracting event information\n",
    "events, event_id = mne.events_from_annotations(raw_data)\n",
    "\n",
    "# Displaying channel names, types, and event information\n",
    "channel_names, channel_types, event_id"
   ]
  },
  {
   "cell_type": "markdown",
   "metadata": {},
   "source": [
    "## 3. Inspecció visual de les dades EEG i EOG\n",
    "\n",
    "Aquí, realitzem una inspecció visual de les dades EEG i EOG. \n",
    "Es mostren segments curts de dades per a una avaluació ràpida de la seva qualitat i per identificar possibles artefactes. \n",
    "Aquesta anàlisi visual és un pas important abans del processament més detallat de les dades."
   ]
  },
  {
   "cell_type": "code",
   "execution_count": null,
   "metadata": {},
   "outputs": [],
   "source": [
    "import matplotlib.pyplot as plt\n",
    "\n",
    "# Plotting a short segment of the EEG and EOG data for visual inspection\n",
    "plot_duration = 10  # in seconds\n",
    "start_time = 100  # start time for the plot, in seconds\n",
    "\n",
    "# Plot EEG data\n",
    "raw_data.copy().pick('eeg').plot(start=start_time, duration=plot_duration, scalings='auto', title='EEG Data')\n",
    "\n",
    "# Check if EOG channels are present and plot EOG data\n",
    "channel_types = [mne.channel_type(raw_data.info, idx) for idx in range(raw_data.info['nchan'])]\n",
    "if 'eog' in channel_types:\n",
    "    raw_data.copy().pick('eog').plot(start=start_time, duration=plot_duration, scalings='auto', title='EOG Data')\n",
    "else:\n",
    "    \"No EOG channels found.\"\n",
    "\n",
    "plt.show()"
   ]
  },
  {
   "cell_type": "markdown",
   "metadata": {},
   "source": [
    "## 4. Creació d'epochs i inspecció visual de les mateixes\n",
    "\n",
    "En aquesta secció, es creen epochs basades en esdeveniments de motor imagery i es realitza una inspecció visual d'unes quantes d'aquestes epochs. \n",
    "Les epochs són segments temporals de dades EEG al voltant d'esdeveniments específics, i la seva visualització ajuda a comprendre les dinàmiques temporals associades a diferents tipus d'activitat cerebral."
   ]
  },
  {
   "cell_type": "code",
   "execution_count": null,
   "metadata": {},
   "outputs": [],
   "source": [
    "# Let's take a closer look at the events and their IDs\n",
    "events_extracted = list(event_id.keys())\n",
    "events_extracted.sort()\n",
    "\n",
    "# Display the sorted list of extracted event descriptions and their corresponding IDs\n",
    "events_extracted, [event_id[ev] for ev in events_extracted]\n",
    "\n",
    "from mne import Epochs, pick_types\n",
    "\n",
    "# Define the event IDs for left hand (class 1) and right hand (class 2) motor imagery\n",
    "# We use the event IDs as they are represented in the data (10 for left hand, 11 for right hand)\n",
    "event_id_motor_imagery = {'Left Hand': 10, 'Right Hand': 11}\n",
    "\n",
    "# Define the time interval around the events for epoching (e.g., from -1 to 4 seconds)\n",
    "tmin, tmax = -0.5, 0.5\n",
    "\n",
    "# Pick EEG channels for epoching\n",
    "picks = pick_types(raw_data.info, eeg=True, eog=False)\n",
    "\n",
    "# Create epochs for motor imagery events\n",
    "epochs = Epochs(raw_data, events, event_id_motor_imagery, tmin, tmax, proj=True, picks=picks, baseline=None, preload=True)\n",
    "\n",
    "epochs.plot(n_epochs=10, n_channels=len(picks)).show()  # Plotting a few epochs for inspection)\n",
    "\n",
    "# Display the shape of the epochs array\n",
    "epochs"
   ]
  },
  {
   "cell_type": "markdown",
   "metadata": {},
   "source": [
    "## 5. Filtratge de les epochs per a anàlisi específica de bandes de freqüència:\n",
    "\n",
    "Aquesta secció aplica un filtre de banda passa a les èpoques per centrar-se en bandes de freqüència específiques que són rellevants per a l'anàlisi de tipus motor imagery. \n",
    "El filtratge ajuda a reduir el soroll i millora la claredat dels senyals per a anàlisis posteriors."
   ]
  },
  {
   "cell_type": "code",
   "execution_count": null,
   "metadata": {},
   "outputs": [],
   "source": [
    "# Applying band-pass filter to the data\n",
    "low_freq, high_freq = 7, 13  # Low and high cut-off frequencies\n",
    "\n",
    "# Applying the filter to the EEG data\n",
    "filtered_epochs = epochs.copy().filter(low_freq, high_freq, fir_design='firwin')\n",
    "\n",
    "# Plotting the filtered data for a few epochs for visual inspection\n",
    "filtered_epochs.plot(n_epochs=10, n_channels=len(picks))\n"
   ]
  },
  {
   "cell_type": "markdown",
   "metadata": {},
   "source": [
    "## 6. Aplicació de l'Anàlisi de Components Independents (ICA)\n",
    "\n",
    "L'ICA és utilitzada aquí per identificar i eliminar artefactes com parpelleigs o moviments musculars. \n",
    "Aquesta secció mostra com inicialitzar i ajustar ICA, i com visualitzar els components per a la identificació d'artefactes. \n",
    "És una tècnica clau en el preprocessament de dades EEG per a obtenir senyals més nets."
   ]
  },
  {
   "cell_type": "code",
   "execution_count": null,
   "metadata": {},
   "outputs": [],
   "source": [
    "from mne.preprocessing import ICA\n",
    "\n",
    "# Número de components per a ICA\n",
    "n_components = len(filtered_epochs.ch_names)\n",
    "\n",
    "# Inicialitza i ajusta ICA\n",
    "ica = ICA(n_components=n_components, random_state=97, max_iter=800)\n",
    "ica.fit(filtered_epochs)\n",
    "\n",
    "# Traça els components ICA (les fonts)\n",
    "ica.plot_sources(filtered_epochs, show_scrollbars=True)\n",
    "\n",
    "# Guarda el gràfic si és necessari\n",
    "# ica.plot_sources(filtered_epochs).savefig('ica_sources_plot.png')\n",
    "\n",
    "\"\"\"\n",
    "from itertools import combinations\n",
    "\n",
    "n_ica_components = len(ica.ch_names)\n",
    "\n",
    "# Limit per al nombre de components a excloure en cada prova\n",
    "max_excluded = 2\n",
    "\n",
    "# Prepara els epochs originals per a la comparació\n",
    "original_epochs = filtered_epochs.copy()\n",
    "\n",
    "# Bucle per a provar totes les combinacions possibles\n",
    "for n in range(max_excluded + 1):\n",
    "    for components_to_exclude in combinations(range(n_ica_components), n):\n",
    "        # Exclou els components seleccionats\n",
    "        ica.exclude = list(components_to_exclude)\n",
    "\n",
    "        # Aplica ICA als epochs filtrats\n",
    "        cleaned_epochs = ica.apply(original_epochs.copy())\n",
    "\n",
    "        # Visualitza els senyals nets\n",
    "        print(f\"Provant amb components exclosos: {components_to_exclude}\")\n",
    "        cleaned_epochs.plot(n_epochs=10, n_channels=len(original_epochs.ch_names))\n",
    "\n",
    "La combinació on s'elimina les components 0,1 es la que millors resultats dóna, per tant, la utilitzarem\n",
    "\"\"\"\n",
    "# Prepara els epochs originals per a la comparació\n",
    "original_epochs = filtered_epochs.copy()\n",
    "\n",
    "# Exclou els components seleccionats\n",
    "ica.exclude = [0, 1]\n",
    "\n",
    "# Aplica ICA als epochs filtrats\n",
    "cleaned_epochs = ica.apply(original_epochs.copy())\n",
    "\n",
    "# Visualitza els senyals nets\n",
    "cleaned_epochs.plot(n_epochs=10, n_channels=len(original_epochs.ch_names))"
   ]
  },
  {
   "cell_type": "markdown",
   "metadata": {},
   "source": [
    "## 7. Extracció de característiques utilitzant la potència espectral\n",
    "\n",
    "En aquesta secció, ens concentrem en l'extracció de característiques a partir de les bandes de freqüència alfa i beta. \n",
    "Utilitzem la potència espectral com a mètode d'extracció, que és crucial per a l'anàlisi de les dades de tipus motor imagery. \n",
    "Aquestes característiques seran utilitzades posteriorment per a la classificació."
   ]
  },
  {
   "cell_type": "code",
   "execution_count": null,
   "metadata": {},
   "outputs": [],
   "source": [
    "import numpy as np\n",
    "\n",
    "# Defineix les bandes de freqüència\n",
    "freq_bands = {'alpha': (5, 17)\n",
    "              #'beta': (13, 30)\n",
    "              }\n",
    "\n",
    "# Calcula la PSD per a tots els epochs\n",
    "psd = cleaned_epochs.compute_psd(fmin=5, fmax=40, method='welch')\n",
    "freqs = psd.freqs\n",
    "psd_data = psd.get_data()\n",
    "\n",
    "# Inicialitza una llista per emmagatzemar les característiques\n",
    "features = []\n",
    "\n",
    "# Itera sobre els psd_data (un array per cada epoch)\n",
    "for psd_epoch in psd_data:\n",
    "    # Inicialitza un diccionari per a les característiques d'aquest epoch\n",
    "    epoch_features = {}\n",
    "\n",
    "    # Calcula la potència mitjana en cada banda de freqüència\n",
    "    for band, (fmin, fmax) in freq_bands.items():\n",
    "        # Troba els índexs de freqüència dins de la banda\n",
    "        freq_mask = (freqs >= fmin) & (freqs <= fmax)\n",
    "\n",
    "        # Mitjana de la potència espectral dins de la banda\n",
    "        mean_band_power = np.mean(psd_epoch[:, freq_mask], axis=1)\n",
    "        epoch_features[band] = mean_band_power\n",
    "\n",
    "    features.append(epoch_features)\n",
    "\n",
    "# `features` ara conté les característiques de potència espectral per a cada epoch\n",
    "features\n"
   ]
  },
  {
   "cell_type": "markdown",
   "metadata": {},
   "source": [
    "## 8. Preparació de dades per a classificació amb SVM\n",
    "\n",
    "Aquí, preparem les característiques i les etiquetes per a ser utilitzades en un model de classificació SVM. \n",
    "Això inclou la normalització de les característiques i la conversió de les etiquetes a un format adequat per al model. (Matricial)"
   ]
  },
  {
   "cell_type": "code",
   "execution_count": null,
   "metadata": {},
   "outputs": [],
   "source": [
    "import numpy as np\n",
    "from sklearn.preprocessing import StandardScaler\n",
    "from sklearn.model_selection import train_test_split\n",
    "\n",
    "# `features` és la llista de característiques\n",
    "# i `labels` és la llista d'etiquetes.\n",
    "\n",
    "# Convertir les característiques en una matriu\n",
    "X = np.array([feat['alpha'] for feat in features])\n",
    "\n",
    "# Extreure les etiquetes dels epochs\n",
    "labels = epochs.events[:, -1]\n",
    "\n",
    "# Mapejar els identificadors d'esdeveniments a etiquetes binàries (0 per a 'Left Hand', 1 per a 'Right Hand')\n",
    "# Això depèn dels IDs d'esdeveniment específics que hem utilitzat per a 'Left Hand' i 'Right Hand'\n",
    "label_map = {10: 0, 11: 1}\n",
    "y = np.array([label_map[label] for label in labels])\n",
    "\n",
    "# Dividir les dades en conjunts d'entrenament i prova\n",
    "X_train, X_test, y_train, y_test = train_test_split(X, y, test_size=0.2, random_state=42)\n",
    "\n",
    "# Normalitzar les característiques de l'entrenament\n",
    "scaler = StandardScaler()\n",
    "X_train_scaled = scaler.fit_transform(X_train)\n",
    "X_test_scaled = scaler.transform(X_test)\n",
    "\n",
    "# Mostrar X_scaled\n",
    "X_train_scaled\n",
    "X_test_scaled\n",
    "\n",
    "# Mostrar y\n",
    "y"
   ]
  },
  {
   "cell_type": "markdown",
   "metadata": {},
   "source": [
    "## 9. Implementació i avaluació del classificador SVM\n",
    "\n",
    "Finalment, implementem i avaluem un classificador SVM. \n",
    "Això inclou la divisió de les dades en conjunts d'entrenament i prova, l'entrenament del model, la realització de prediccions i l'avaluació de la seva precisió, mitjançant diverses mètriques com la matriu de confusió i l'informe de classificació. \n",
    "Aquesta secció culmina el flux de treball d'anàlisi de dades EEG."
   ]
  },
  {
   "cell_type": "code",
   "execution_count": null,
   "metadata": {},
   "outputs": [],
   "source": [
    "from sklearn.svm import SVC\n",
    "from sklearn.metrics import confusion_matrix, accuracy_score, classification_report, cohen_kappa_score\n",
    "\n",
    "# Crear el model SVM\n",
    "svm_model = SVC(kernel='rbf')  # altres kernels: 'linear', 'poly', 'rbf', etc.\n",
    "\n",
    "# Entrenar el model amb dades normalitzades\n",
    "svm_model.fit(X_train_scaled, y_train)\n",
    "\n",
    "# Fer prediccions amb les dades de prova\n",
    "y_pred = svm_model.predict(X_test)\n",
    "\n",
    "# Calcular mètriques d'avaluació\n",
    "accuracy = accuracy_score(y_test, y_pred)\n",
    "conf_matrix = confusion_matrix(y_test, y_pred)\n",
    "class_report = classification_report(y_test, y_pred)\n",
    "kappa_score = cohen_kappa_score(y_test, y_pred)\n",
    "\n",
    "# Mostrar els resultats\n",
    "print(\"Exactitud (Accuracy):\", accuracy)\n",
    "print(\"Matrís de Confusió:\\n\", conf_matrix)\n",
    "print(\"Informe de Classificació:\\n\", class_report)\n",
    "print(\"Puntuació Kappa:\", kappa_score)\n"
   ]
  }
 ],
 "metadata": {
  "kernelspec": {
   "display_name": "venv",
   "language": "python",
   "name": "python3"
  },
  "language_info": {
   "codemirror_mode": {
    "name": "ipython",
    "version": 3
   },
   "file_extension": ".py",
   "mimetype": "text/x-python",
   "name": "python",
   "nbconvert_exporter": "python",
   "pygments_lexer": "ipython3",
   "version": "3.9.5"
  }
 },
 "nbformat": 4,
 "nbformat_minor": 2
}
